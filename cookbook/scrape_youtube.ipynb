{
 "cells": [
  {
   "cell_type": "code",
   "execution_count": 1,
   "metadata": {},
   "outputs": [],
   "source": [
    "import argparse\n",
    "from googleapiclient.discovery import build\n",
    "from googleapiclient.errors import HttpError\n",
    "import requests\n",
    "import re"
   ]
  },
  {
   "cell_type": "code",
   "execution_count": 2,
   "metadata": {},
   "outputs": [],
   "source": [
    "# Replace 'YOUR_API_KEY' with your actual API key.\n",
    "DEVELOPER_KEY = 'GOOGLE DEVELOPER KEY'\n",
    "YOUTUBE_API_SERVICE_NAME = 'youtube'\n",
    "YOUTUBE_API_VERSION = 'v3'"
   ]
  },
  {
   "cell_type": "code",
   "execution_count": 6,
   "metadata": {},
   "outputs": [],
   "source": [
    "import os\n",
    "import re\n",
    "\n",
    "from langchain_google_genai import GoogleGenerativeAIEmbeddings\n",
    "from langchain_google_genai import (\n",
    "    ChatGoogleGenerativeAI,\n",
    "    HarmBlockThreshold,\n",
    "    HarmCategory,\n",
    ")\n",
    "# from langchain_community.document_loaders.csv_loader import CSVLoader\n",
    "from langchain_community.vectorstores import FAISS\n",
    "from langchain_core.prompts import ChatPromptTemplate\n",
    "from langchain.chains.combine_documents import create_stuff_documents_chain\n",
    "from langchain.chains import create_retrieval_chain\n",
    "\n",
    "from langchain.chains import create_history_aware_retriever\n",
    "from langchain_core.prompts import MessagesPlaceholder\n",
    "\n",
    "from langchain_community.chat_message_histories import ChatMessageHistory\n",
    "from langchain_core.chat_history import BaseChatMessageHistory\n",
    "from langchain_core.runnables.history import RunnableWithMessageHistory\n",
    "from langchain_community.document_loaders import PyPDFLoader\n",
    "from langchain.tools.retriever import create_retriever_tool\n",
    "from langchain_text_splitters import RecursiveCharacterTextSplitter\n",
    "from langgraph.checkpoint.sqlite import SqliteSaver\n",
    "from langchain_core.messages import HumanMessage\n",
    "import nest_asyncio\n",
    "nest_asyncio.apply()"
   ]
  },
  {
   "cell_type": "code",
   "execution_count": 7,
   "metadata": {},
   "outputs": [],
   "source": [
    "os.environ['GOOGLE_API_KEY'] = \"YOUR API KEY\"\n",
    "llm = ChatGoogleGenerativeAI(\n",
    "    model=\"gemini-1.5-pro-latest\",\n",
    "    safety_settings={\n",
    "        HarmCategory.HARM_CATEGORY_HARASSMENT: HarmBlockThreshold.BLOCK_NONE,\n",
    "        HarmCategory.HARM_CATEGORY_HATE_SPEECH: HarmBlockThreshold.BLOCK_NONE,\n",
    "        HarmCategory.HARM_CATEGORY_SEXUALLY_EXPLICIT: HarmBlockThreshold.BLOCK_NONE,\n",
    "        HarmCategory.HARM_CATEGORY_DANGEROUS_CONTENT: HarmBlockThreshold.BLOCK_NONE,\n",
    "    },\n",
    ")\n",
    "embed_model = GoogleGenerativeAIEmbeddings(model=\"models/embedding-001\")\n"
   ]
  },
  {
   "cell_type": "code",
   "execution_count": 8,
   "metadata": {},
   "outputs": [],
   "source": [
    "from langchain.pydantic_v1 import BaseModel, Field\n",
    "from langchain.tools import BaseTool, StructuredTool, tool"
   ]
  },
  {
   "cell_type": "code",
   "execution_count": 9,
   "metadata": {},
   "outputs": [],
   "source": [
    "def get_captions(video_id: str) -> str:\n",
    "    \"\"\"Fetch the caption ID for a given YouTube video ID if English captions are available.\"\"\"\n",
    "    captions_url = f\"https://www.googleapis.com/youtube/v3/captions?part=snippet&videoId={video_id}&key={DEVELOPER_KEY}\"\n",
    "    response = requests.get(captions_url)\n",
    "    if response.status_code == 200:\n",
    "        captions = response.json().get('items', [])\n",
    "        for caption in captions:\n",
    "            if caption['snippet']['language'] == 'en':\n",
    "                return caption['id']\n",
    "    return None\n",
    "\n",
    "def download_captions(caption_id: str) -> str:\n",
    "    \"\"\"Download and return the captions for a given caption ID.\"\"\"\n",
    "    download_url = f\"https://www.googleapis.com/youtube/v3/captions/{caption_id}?tfmt=ttml&key={DEVELOPER_KEY}\"\n",
    "    response = requests.get(download_url)\n",
    "    if response.status_code == 200:\n",
    "        ttml_data = response.text\n",
    "        captions = re.findall(r'<p.*?>(.*?)</p>', ttml_data)\n",
    "        return \" \".join(captions)\n",
    "    return \"No captions available.\""
   ]
  },
  {
   "cell_type": "code",
   "execution_count": 18,
   "metadata": {},
   "outputs": [],
   "source": [
    "@tool\n",
    "def youtube_search(query: str, max_results: int = 10) -> str:\n",
    "    \"\"\"\n",
    "    Search YouTube for videos matching the query related to dental health and dental procedures, as requested by DentalCare.AI users. Provide a curated list of high-quality video resources relevant to dental topics.\n",
    "\n",
    "    Args:\n",
    "        query (str): The dental-related search term to use.\n",
    "        max_results (int): The maximum number of results to return (default is 10).\n",
    "\n",
    "    Returns:\n",
    "        str: A formatted string containing the video titles, URLs, descriptions, and captions (if available) for the top results.\n",
    "        \n",
    "    Functionality:\n",
    "        - Search YouTube for videos on topics such as dental procedures, oral health tips, emergency dental advice, post-procedure care, and dental education.\n",
    "        - Ensure videos are from reputable sources and cover the requested topics in detail.\n",
    "        - Provide relevant information in a user-friendly format for DentalCare.AI users seeking video resources.\n",
    "    \"\"\"\n",
    "    youtube = build(YOUTUBE_API_SERVICE_NAME, YOUTUBE_API_VERSION, developerKey=DEVELOPER_KEY)\n",
    "    \n",
    "    search_response = youtube.search().list(\n",
    "        q=query,\n",
    "        part='id,snippet',\n",
    "        maxResults=max_results\n",
    "    ).execute()\n",
    "\n",
    "    videos = []\n",
    "    for item in search_response.get('items', []):\n",
    "        if item['id']['kind'] == 'youtube#video':\n",
    "            title = item['snippet']['title']\n",
    "            video_id = item['id']['videoId']\n",
    "            description = item['snippet']['description']\n",
    "            caption_id = get_captions(video_id)\n",
    "            captions = download_captions(caption_id) if caption_id else \"No captions available.\"\n",
    "            videos.append(f\"Title: {title}\\nURL: https://www.youtube.com/watch?v={video_id}\\nDescription: {description}\\nCaptions: {captions}\\n\")\n",
    "    \n",
    "    return \"\\n\\n\".join(videos)\n"
   ]
  },
  {
   "cell_type": "code",
   "execution_count": 19,
   "metadata": {},
   "outputs": [],
   "source": [
    "\n",
    "from langgraph.prebuilt import create_react_agent\n",
    "tools = [youtube_search]\n",
    "memory = SqliteSaver.from_conn_string(\":memory:\")\n",
    "agent_executor = create_react_agent(llm, tools, checkpointer=memory)"
   ]
  },
  {
   "cell_type": "code",
   "execution_count": 20,
   "metadata": {},
   "outputs": [
    {
     "name": "stdout",
     "output_type": "stream",
     "text": [
      "{'agent': {'messages': [AIMessage(content='', additional_kwargs={'function_call': {'name': 'youtube_search', 'arguments': '{\"query\": \"root canal surgery\"}'}}, response_metadata={'prompt_feedback': {'block_reason': 0, 'safety_ratings': []}, 'finish_reason': 'STOP', 'safety_ratings': [{'category': 'HARM_CATEGORY_HARASSMENT', 'probability': 'NEGLIGIBLE', 'blocked': False}, {'category': 'HARM_CATEGORY_SEXUALLY_EXPLICIT', 'probability': 'NEGLIGIBLE', 'blocked': False}, {'category': 'HARM_CATEGORY_DANGEROUS_CONTENT', 'probability': 'NEGLIGIBLE', 'blocked': False}, {'category': 'HARM_CATEGORY_HATE_SPEECH', 'probability': 'NEGLIGIBLE', 'blocked': False}]}, id='run-0495158d-a2d6-4fbf-957a-57c549318abb-0', tool_calls=[{'name': 'youtube_search', 'args': {'query': 'root canal surgery'}, 'id': '656c60ee-9d15-44bd-92f1-1afce24a5964', 'type': 'tool_call'}], usage_metadata={'input_tokens': 237, 'output_tokens': 17, 'total_tokens': 254})]}}\n",
      "----\n",
      "{'tools': {'messages': [ToolMessage(content=\"Title: Delivering MTApex™ bioceramic root canal sealer\\nURL: https://www.youtube.com/watch?v=CPjbmHIhirc\\nDescription: MTApex™ bioceramic root canal sealer is deliverable via a NaviTip™ 29 ga single sideport tip or gutta percha. Learn more at ...\\nCaptions: No captions available.\\n\\n\\nTitle: Root Canal Procedure Step by Step\\nURL: https://www.youtube.com/watch?v=81qSdFYKRcc\\nDescription: Let's see what happens during a root canal procedure! A root canal procedure is extremely safe and one of the best ways to ...\\nCaptions: No captions available.\\n\\n\\nTitle: Root Canal Treatment\\nURL: https://www.youtube.com/watch?v=wZ1MtdkkZXg\\nDescription: This 3D medical animation features a procedure called 'Root canal treatment'. This is a sequence of steps to treat the pulp of a ...\\nCaptions: No captions available.\\n\\n\\nTitle: ROOT CANAL treatment step by step  - 3D video of endodontics for tooth decay ©\\nURL: https://www.youtube.com/watch?v=UQH3GWsCmr8\\nDescription: How is a root canal treatment done? When is it necessary? 3D video of Clínica Médico Dental Pardiñas (http://j.mp/cPardinas) ...\\nCaptions: No captions available.\\n\\n\\nTitle: Root Canal Treatment RCT (Step by Step Animation)\\nURL: https://www.youtube.com/watch?v=0s35QCFg7p0\\nDescription: Root canal more popularly know as RCT is a very simple procedure done under local anaesthesia. Modern day root canal is ...\\nCaptions: No captions available.\\n\\n\\nTitle: Root Canal Surgery\\nURL: https://www.youtube.com/watch?v=z74yyNPkjyA\\nDescription: Visit us at http://www.surgerysquad.com/ What could be worse than a root canal? A lot of things! The root canal is probably one of ...\\nCaptions: No captions available.\\n\\n\\nTitle: What&#39;s Really Happening During A Root Canal Procedure\\nURL: https://www.youtube.com/watch?v=oBGqPBDg3tw\\nDescription: Root canal therapy (aka a root canal) is the process of repairing and saving a damaged or infected tooth. This video demonstrates ...\\nCaptions: No captions available.\\n\\n\\nTitle: Why would someone need a Root Canal? 🦷💉#trulydental #dentist #qanda #rootcanal #causes #explained\\nURL: https://www.youtube.com/watch?v=lOiSaYL-hFs\\nDescription: \\nCaptions: No captions available.\\n\\n\\nTitle: LIVE: Root Canal Procedure under the Microscope w/ Specialist\\nURL: https://www.youtube.com/watch?v=OIoZ9EehR0I\\nDescription: Full Length Video - https://youtu.be/d4mozZSmuF4 FREE ENDO GUIDE & NEWSLETTER ...\\nCaptions: No captions available.\\n\\n\\nTitle: Endodontists Put Root Canal Patients at Ease\\nURL: https://www.youtube.com/watch?v=HSsA6qnqlNQ\\nDescription: Features interviews with root canal patients describing their positive, pain-free experiences, while endodontists explain what a ...\\nCaptions: No captions available.\\n\", name='youtube_search', tool_call_id='656c60ee-9d15-44bd-92f1-1afce24a5964')]}}\n",
      "----\n",
      "{'agent': {'messages': [AIMessage(content=\"Title: Delivering MTApex™ bioceramic root canal sealer\\nURL: https://www.youtube.com/watch?v=CPjbmHIhirc\\nDescription: MTApex™ bioceramic root canal sealer is deliverable via a NaviTip™ 29 ga single sideport tip or gutta percha. Learn more at ...\\nCaptions: No captions available.\\n\\n\\nTitle: Root Canal Procedure Step by Step\\nURL: https://www.youtube.com/watch?v=81qSdFYKRcc\\nDescription: Let's see what happens during a root canal procedure! A root canal procedure is extremely safe and one of the best ways to ...\\nCaptions: No captions available.\\n\\n\\nTitle: Root Canal Treatment\\nURL: https://www.youtube.com/watch?v=wZ1MtdkkZXg\\nDescription: This 3D medical animation features a procedure called 'Root canal treatment'. This is a sequence of steps to treat the pulp of a ...\\nCaptions: No captions available.\\n\\n\\nTitle: ROOT CANAL treatment step by step  - 3D video of endodontics for tooth decay 👀\\nURL: https://www.youtube.com/watch?v=UQH3GWsCmr8\\nDescription: How is a root canal treatment done? When is it necessary? 3D video of Clínica Médico Dental Pardiñas (http://j.mp/cPardinas) ...\\nCaptions: No captions available.\\n\\n\\nTitle: Root Canal Treatment RCT (Step by Step Animation)\\nURL: https://www.youtube.com/watch?v=0s35QCFg7p0\\nDescription: Root canal more popularly know as RCT is a very simple procedure done under local anaesthesia. Modern day root canal is ...\\nCaptions: No captions available.\\n\\n\\nTitle: Root Canal Surgery\\nURL: https://www.youtube.com/watch?v=z74yyNPkjyA\\nDescription: Visit us at http://www.surgerysquad.com/ What could be worse than a root canal? A lot of things! The root canal is probably one of ...\\nCaptions: No captions available.\\n\\n\\nTitle: What's Really Happening During A Root Canal Procedure\\nURL: https://www.youtube.com/watch?v=oBGqPBDg3tw\\nDescription: Root canal therapy (aka a root canal) is the process of repairing and saving a damaged or infected tooth. This video demonstrates ...\\nCaptions: No captions available.\\n\\n\\nTitle: Why would someone need a Root Canal? 🤔🦷#trulydental #dentist #qanda #rootcanal #causes #explained\\nURL: https://www.youtube.com/watch?v=lOiSaYL-hFs\\nDescription: \\nCaptions: No captions available.\\n\\n\\nTitle: LIVE: Root Canal Procedure under the Microscope w/ Specialist\\nURL: https://www.youtube.com/watch?v=OIoZ9EehR0I\\nDescription: Full Length Video - https://youtu.be/d4mozZSmuF4 FREE ENDO GUIDE & NEWSLETTER ...\\nCaptions: No captions available.\\n\\n\\nTitle: Endodontists Put Root Canal Patients at Ease\\nURL: https://www.youtube.com/watch?v=HSsA6qnqlNQ\\nDescription: Features interviews with root canal patients describing their positive, pain-free experiences, while endodontists explain what a ...\\nCaptions: No captions available.\", response_metadata={'prompt_feedback': {'block_reason': 0, 'safety_ratings': []}, 'finish_reason': 'STOP', 'safety_ratings': [{'category': 'HARM_CATEGORY_SEXUALLY_EXPLICIT', 'probability': 'NEGLIGIBLE', 'blocked': False}, {'category': 'HARM_CATEGORY_HATE_SPEECH', 'probability': 'NEGLIGIBLE', 'blocked': False}, {'category': 'HARM_CATEGORY_HARASSMENT', 'probability': 'NEGLIGIBLE', 'blocked': False}, {'category': 'HARM_CATEGORY_DANGEROUS_CONTENT', 'probability': 'NEGLIGIBLE', 'blocked': False}]}, id='run-83a3b3e7-06ef-4dd2-b642-1e364ded9f35-0', usage_metadata={'input_tokens': 1167, 'output_tokens': 732, 'total_tokens': 1899})]}}\n",
      "----\n"
     ]
    }
   ],
   "source": [
    "from langchain_core.messages import HumanMessage\n",
    "config = {\"configurable\": {\"thread_id\": \"abc123\"}}\n",
    "\n",
    "for s in agent_executor.stream(\n",
    "    {\"messages\": [HumanMessage(content=\"root canal surgery\")]}, config=config\n",
    "):\n",
    "    print(s)\n",
    "    print(\"----\")"
   ]
  },
  {
   "cell_type": "markdown",
   "metadata": {},
   "source": [
    "**Complete Response in MD below**"
   ]
  },
  {
   "cell_type": "markdown",
   "metadata": {},
   "source": [
    "{'agent': {'messages': [AIMessage(content='', additional_kwargs={'function_call': {'name': 'youtube_search', 'arguments': '{\"query\": \"root canal surgery\"}'}}, response_metadata={'prompt_feedback': {'block_reason': 0, 'safety_ratings': []}, 'finish_reason': 'STOP', 'safety_ratings': [{'category': 'HARM_CATEGORY_HARASSMENT', 'probability': 'NEGLIGIBLE', 'blocked': False}, {'category': 'HARM_CATEGORY_SEXUALLY_EXPLICIT', 'probability': 'NEGLIGIBLE', 'blocked': False}, {'category': 'HARM_CATEGORY_DANGEROUS_CONTENT', 'probability': 'NEGLIGIBLE', 'blocked': False}, {'category': 'HARM_CATEGORY_HATE_SPEECH', 'probability': 'NEGLIGIBLE', 'blocked': False}]}, id='run-0495158d-a2d6-4fbf-957a-57c549318abb-0', tool_calls=[{'name': 'youtube_search', 'args': {'query': 'root canal surgery'}, 'id': '656c60ee-9d15-44bd-92f1-1afce24a5964', 'type': 'tool_call'}], usage_metadata={'input_tokens': 237, 'output_tokens': 17, 'total_tokens': 254})]}}\n",
    "----\n",
    "{'tools': {'messages': [ToolMessage(content=\"Title: Delivering MTApex™ bioceramic root canal sealer\\nURL: https://www.youtube.com/watch?v=CPjbmHIhirc\\nDescription: MTApex™ bioceramic root canal sealer is deliverable via a NaviTip™ 29 ga single sideport tip or gutta percha. Learn more at ...\\nCaptions: No captions available.\\n\\n\\nTitle: Root Canal Procedure Step by Step\\nURL: https://www.youtube.com/watch?v=81qSdFYKRcc\\nDescription: Let's see what happens during a root canal procedure! A root canal procedure is extremely safe and one of the best ways to ...\\nCaptions: No captions available.\\n\\n\\nTitle: Root Canal Treatment\\nURL: https://www.youtube.com/watch?v=wZ1MtdkkZXg\\nDescription: This 3D medical animation features a procedure called 'Root canal treatment'. This is a sequence of steps to treat the pulp of a ...\\nCaptions: No captions available.\\n\\n\\nTitle: ROOT CANAL treatment step by step  - 3D video of endodontics for tooth decay ©\\nURL: https://www.youtube.com/watch?v=UQH3GWsCmr8\\nDescription: How is a root canal treatment done? When is it necessary? 3D video of Clínica Médico Dental Pardiñas (http://j.mp/cPardinas) ...\\nCaptions: No captions available.\\n\\n\\nTitle: Root Canal Treatment RCT (Step by Step Animation)\\nURL: https://www.youtube.com/watch?v=0s35QCFg7p0\\nDescription: Root canal more popularly know as RCT is a very simple procedure done under local anaesthesia. Modern day root canal is ...\\nCaptions: No captions available.\\n\\n\\nTitle: Root Canal Surgery\\nURL: https://www.youtube.com/watch?v=z74yyNPkjyA\\nDescription: Visit us at http://www.surgerysquad.com/ What could be worse than a root canal? A lot of things! The root canal is probably one of ...\\nCaptions: No captions available.\\n\\n\\nTitle: What&#39;s Really Happening During A Root Canal Procedure\\nURL: https://www.youtube.com/watch?v=oBGqPBDg3tw\\nDescription: Root canal therapy (aka a root canal) is the process of repairing and saving a damaged or infected tooth. This video demonstrates ...\\nCaptions: No captions available.\\n\\n\\nTitle: Why would someone need a Root Canal? 🦷💉#trulydental #dentist #qanda #rootcanal #causes #explained\\nURL: https://www.youtube.com/watch?v=lOiSaYL-hFs\\nDescription: \\nCaptions: No captions available.\\n\\n\\nTitle: LIVE: Root Canal Procedure under the Microscope w/ Specialist\\nURL: https://www.youtube.com/watch?v=OIoZ9EehR0I\\nDescription: Full Length Video - https://youtu.be/d4mozZSmuF4 FREE ENDO GUIDE & NEWSLETTER ...\\nCaptions: No captions available.\\n\\n\\nTitle: Endodontists Put Root Canal Patients at Ease\\nURL: https://www.youtube.com/watch?v=HSsA6qnqlNQ\\nDescription: Features interviews with root canal patients describing their positive, pain-free experiences, while endodontists explain what a ...\\nCaptions: No captions available.\\n\", name='youtube_search', tool_call_id='656c60ee-9d15-44bd-92f1-1afce24a5964')]}}\n",
    "----\n",
    "{'agent': {'messages': [AIMessage(content=\"Title: Delivering MTApex™ bioceramic root canal sealer\\nURL: https://www.youtube.com/watch?v=CPjbmHIhirc\\nDescription: MTApex™ bioceramic root canal sealer is deliverable via a NaviTip™ 29 ga single sideport tip or gutta percha. Learn more at ...\\nCaptions: No captions available.\\n\\n\\nTitle: Root Canal Procedure Step by Step\\nURL: https://www.youtube.com/watch?v=81qSdFYKRcc\\nDescription: Let's see what happens during a root canal procedure! A root canal procedure is extremely safe and one of the best ways to ...\\nCaptions: No captions available.\\n\\n\\nTitle: Root Canal Treatment\\nURL: https://www.youtube.com/watch?v=wZ1MtdkkZXg\\nDescription: This 3D medical animation features a procedure called 'Root canal treatment'. This is a sequence of steps to treat the pulp of a ...\\nCaptions: No captions available.\\n\\n\\nTitle: ROOT CANAL treatment step by step  - 3D video of endodontics for tooth decay 👀\\nURL: https://www.youtube.com/watch?v=UQH3GWsCmr8\\nDescription: How is a root canal treatment done? When is it necessary? 3D video of Clínica Médico Dental Pardiñas (http://j.mp/cPardinas) ...\\nCaptions: No captions available.\\n\\n\\nTitle: Root Canal Treatment RCT (Step by Step Animation)\\nURL: https://www.youtube.com/watch?v=0s35QCFg7p0\\nDescription: Root canal more popularly know as RCT is a very simple procedure done under local anaesthesia. Modern day root canal is ...\\nCaptions: No captions available.\\n\\n\\nTitle: Root Canal Surgery\\nURL: https://www.youtube.com/watch?v=z74yyNPkjyA\\nDescription: Visit us at http://www.surgerysquad.com/ What could be worse than a root canal? A lot of things! The root canal is probably one of ...\\nCaptions: No captions available.\\n\\n\\nTitle: What's Really Happening During A Root Canal Procedure\\nURL: https://www.youtube.com/watch?v=oBGqPBDg3tw\\nDescription: Root canal therapy (aka a root canal) is the process of repairing and saving a damaged or infected tooth. This video demonstrates ...\\nCaptions: No captions available.\\n\\n\\nTitle: Why would someone need a Root Canal? 🤔🦷#trulydental #dentist #qanda #rootcanal #causes #explained\\nURL: https://www.youtube.com/watch?v=lOiSaYL-hFs\\nDescription: \\nCaptions: No captions available.\\n\\n\\nTitle: LIVE: Root Canal Procedure under the Microscope w/ Specialist\\nURL: https://www.youtube.com/watch?v=OIoZ9EehR0I\\nDescription: Full Length Video - https://youtu.be/d4mozZSmuF4 FREE ENDO GUIDE & NEWSLETTER ...\\nCaptions: No captions available.\\n\\n\\nTitle: Endodontists Put Root Canal Patients at Ease\\nURL: https://www.youtube.com/watch?v=HSsA6qnqlNQ\\nDescription: Features interviews with root canal patients describing their positive, pain-free experiences, while endodontists explain what a ...\\nCaptions: No captions available.\", response_metadata={'prompt_feedback': {'block_reason': 0, 'safety_ratings': []}, 'finish_reason': 'STOP', 'safety_ratings': [{'category': 'HARM_CATEGORY_SEXUALLY_EXPLICIT', 'probability': 'NEGLIGIBLE', 'blocked': False}, {'category': 'HARM_CATEGORY_HATE_SPEECH', 'probability': 'NEGLIGIBLE', 'blocked': False}, {'category': 'HARM_CATEGORY_HARASSMENT', 'probability': 'NEGLIGIBLE', 'blocked': False}, {'category': 'HARM_CATEGORY_DANGEROUS_CONTENT', 'probability': 'NEGLIGIBLE', 'blocked': False}]}, id='run-83a3b3e7-06ef-4dd2-b642-1e364ded9f35-0', usage_metadata={'input_tokens': 1167, 'output_tokens': 732, 'total_tokens': 1899})]}}\n",
    "----\n"
   ]
  },
  {
   "cell_type": "code",
   "execution_count": null,
   "metadata": {},
   "outputs": [],
   "source": []
  }
 ],
 "metadata": {
  "kernelspec": {
   "display_name": "lang",
   "language": "python",
   "name": "python3"
  },
  "language_info": {
   "codemirror_mode": {
    "name": "ipython",
    "version": 3
   },
   "file_extension": ".py",
   "mimetype": "text/x-python",
   "name": "python",
   "nbconvert_exporter": "python",
   "pygments_lexer": "ipython3",
   "version": "3.10.5"
  }
 },
 "nbformat": 4,
 "nbformat_minor": 2
}
